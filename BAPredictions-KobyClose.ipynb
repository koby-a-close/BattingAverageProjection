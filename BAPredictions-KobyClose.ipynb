{
 "cells": [
  {
   "cell_type": "markdown",
   "metadata": {},
   "source": [
    "# Predciting Full Season Batting Average using March and April Batting Data"
   ]
  },
  {
   "cell_type": "markdown",
   "metadata": {},
   "source": [
    "The following code uses an XGBRegressor model to predict full season batting averages using only data from March and April of the same season. The model was built in three steps:\n",
    "\n",
    "Step 1 - Build a model to predict March/April batting averages using other March/April statistics\n",
    "\n",
    "Step 2 - Predict full season values for the statistics used in the model using weighted averages and an assumption of regressing to the mean.\n",
    "\n",
    "Step 3 - Predict final batting averages using the model built in Step 1 and statistics from Step 2."
   ]
  },
  {
   "cell_type": "markdown",
   "metadata": {},
   "source": [
    "# Setup Code"
   ]
  },
  {
   "cell_type": "markdown",
   "metadata": {},
   "source": [
    "Imports any needed packages and the data provided."
   ]
  },
  {
   "cell_type": "code",
   "execution_count": 69,
   "metadata": {},
   "outputs": [],
   "source": [
    "# Load packages\n",
    "import numpy as np\n",
    "import pandas as pd\n",
    "from xgboost import XGBRegressor\n",
    "from sklearn.model_selection import cross_val_score\n",
    "from sklearn.metrics import mean_absolute_error, mean_squared_error\n",
    "import matplotlib.pyplot as plt\n",
    "from sklearn.metrics import r2_score\n",
    "import seaborn as sns\n",
    "\n",
    "\n",
    "# Import Data\n",
    "data_dir = '/Users/Koby/PycharmProjects/PhilliesBAModel/Input/'\n",
    "df_data = pd.read_csv(data_dir + 'batting.csv')"
   ]
  },
  {
   "cell_type": "markdown",
   "metadata": {},
   "source": [
    "# Step 1: Building the Initial Model"
   ]
  },
  {
   "cell_type": "markdown",
   "metadata": {},
   "source": [
    "In order to start building an initial model I needed to break the data into features and an outcome. For the first model the March/April Batting Averages were the outcome and any other field in the csv file could be a feature.\n",
    "\n",
    "Some columns provided don't make sense to use for batting average predicitions like hits, runs, RBIs, and stolen bases so I excluded them from the features."
   ]
  },
  {
   "cell_type": "code",
   "execution_count": 82,
   "metadata": {},
   "outputs": [],
   "source": [
    "# Get features for initial model training and batting averages from first month of season\n",
    "X = df_data[['MarApr_BB%', 'MarApr_K%', 'MarApr_ISO', 'MarApr_BABIP', 'MarApr_OBP',\n",
    "             'MarApr_LD%', 'MarApr_GB%', 'MarApr_FB%', 'MarApr_IFFB%', 'MarApr_HR/FB', 'MarApr_O-Swing%',\n",
    "             'MarApr_Z-Swing%', 'MarApr_Swing%', 'MarApr_O-Contact%', 'MarApr_Z-Contact%', 'MarApr_Contact%']].copy()\n",
    "y = df_data['MarApr_AVG'].copy()"
   ]
  },
  {
   "cell_type": "markdown",
   "metadata": {},
   "source": [
    "XGBoost is a package that builds ensemble models with high speed and performance. I chose to use this package for my model because I have used it in the past and find it outperforms other techniques like linear regression or regression trees and is easier to tune.\n",
    "\n",
    "Once the variables were separated I built an initial XGBRegression model. I used basic parameters as this model is not going to be the final model used for predicitions."
   ]
  },
  {
   "cell_type": "code",
   "execution_count": 83,
   "metadata": {},
   "outputs": [
    {
     "name": "stdout",
     "output_type": "stream",
     "text": [
      "[20:38:28] WARNING: src/objective/regression_obj.cu:152: reg:linear is now deprecated in favor of reg:squarederror.\n"
     ]
    }
   ],
   "source": [
    "# Trains an initial model using most of the features given in the dataset.\n",
    "XGB_model1 = XGBRegressor(learning_rate=0.1, n_estimators=1000, max_depth=3, subsample=0.8)\n",
    "clf_original = XGB_model1.fit(X,y)"
   ]
  },
  {
   "cell_type": "markdown",
   "metadata": {},
   "source": [
    "I used cross-validation to train and test the model. Cross-validitation was prefered because it gives a better idea of model performance than train-test splits and allows all data to be used since there wasn't a large volume of data.\n",
    "\n",
    "I used Mean Average Error to evaluate model performance. MAE was chosen because it penalizes each error equally. \n",
    "This is ideal because a single player who significantly outperforms/underperforms expectations in a year is not uncommon but would make a model that otherwise predicts batting average well look poor. Additionally, MAE is easy to use to explain the model's performance. A MAE of 0.010 means each predicition will be 0.010 off on average. "
   ]
  },
  {
   "cell_type": "code",
   "execution_count": 109,
   "metadata": {},
   "outputs": [
    {
     "name": "stdout",
     "output_type": "stream",
     "text": [
      "[21:31:07] WARNING: src/objective/regression_obj.cu:152: reg:linear is now deprecated in favor of reg:squarederror.\n",
      "[21:31:07] WARNING: src/objective/regression_obj.cu:152: reg:linear is now deprecated in favor of reg:squarederror.\n",
      "[21:31:07] WARNING: src/objective/regression_obj.cu:152: reg:linear is now deprecated in favor of reg:squarederror.\n",
      "MAE for All Features:  -0.0213\n"
     ]
    }
   ],
   "source": [
    "# Evaluate using cross validation and MAE scoring.\n",
    "CV_score = cross_val_score(XGB_model1, X, y, scoring='neg_mean_absolute_error')\n",
    "scr = round(np.mean(CV_score), 4)\n",
    "print(\"MAE for All Features: \", scr)"
   ]
  },
  {
   "cell_type": "markdown",
   "metadata": {},
   "source": [
    "It is easier to understand a model with less features and usually there is a threshold when features are not adding much predictive value. I printed the feature importances from the initial model to choose which features I would use for the final model."
   ]
  },
  {
   "cell_type": "code",
   "execution_count": 85,
   "metadata": {},
   "outputs": [
    {
     "name": "stdout",
     "output_type": "stream",
     "text": [
      "             Variable  Importance\n",
      "4          MarApr_OBP    0.414666\n",
      "3        MarApr_BABIP    0.357582\n",
      "1           MarApr_K%    0.064168\n",
      "2          MarApr_ISO    0.056116\n",
      "0          MarApr_BB%    0.044523\n",
      "9        MarApr_HR/FB    0.014040\n",
      "12      MarApr_Swing%    0.010063\n",
      "14  MarApr_Z-Contact%    0.008492\n",
      "8        MarApr_IFFB%    0.006033\n",
      "10    MarApr_O-Swing%    0.005047\n",
      "13  MarApr_O-Contact%    0.004941\n",
      "15    MarApr_Contact%    0.004090\n",
      "11    MarApr_Z-Swing%    0.003939\n",
      "5          MarApr_LD%    0.002203\n",
      "7          MarApr_FB%    0.002170\n",
      "6          MarApr_GB%    0.001926\n"
     ]
    }
   ],
   "source": [
    "# Print feature importances to ID top features for final model.\n",
    "print(pd.DataFrame({'Variable':X.columns,\n",
    "                    'Importance':XGB_model1.feature_importances_}).sort_values('Importance', ascending=False))"
   ]
  },
  {
   "cell_type": "markdown",
   "metadata": {},
   "source": [
    "Five features were identified as important to the model: OBP, BABIP, K%, BB%, and ISO. After these values, the feature importance dropped to below 5%. I pulled these values out of the original data and gave them generic names to make the easier to work with later on."
   ]
  },
  {
   "cell_type": "code",
   "execution_count": 74,
   "metadata": {},
   "outputs": [],
   "source": [
    "X_top5 = X[['MarApr_OBP', 'MarApr_BABIP', 'MarApr_K%', 'MarApr_BB%', 'MarApr_ISO']].copy()\n",
    "X_top5 = X_top5.rename(columns={'MarApr_OBP':'OBP', 'MarApr_BABIP':'BABIP', 'MarApr_K%':'K%', 'MarApr_BB%':'BB%',\n",
    "                                'MarApr_ISO':'ISO'})"
   ]
  },
  {
   "cell_type": "markdown",
   "metadata": {},
   "source": [
    "I built a new XGBRegression model using the top five features.\n",
    "\n",
    "An XGBRegreesion model can be tuned using some specific parameter values. Using some stratgeies for model tuning from a Towards Data Science article, I tuned the model using trial and error until MAE was optimized (https://towardsdatascience.com/fine-tuning-xgboost-in-python-like-a-boss-b4543ed8b1e)."
   ]
  },
  {
   "cell_type": "code",
   "execution_count": 110,
   "metadata": {},
   "outputs": [
    {
     "name": "stdout",
     "output_type": "stream",
     "text": [
      "[21:31:11] WARNING: src/objective/regression_obj.cu:152: reg:linear is now deprecated in favor of reg:squarederror.\n",
      "[21:31:11] WARNING: src/objective/regression_obj.cu:152: reg:linear is now deprecated in favor of reg:squarederror.\n",
      "[21:31:11] WARNING: src/objective/regression_obj.cu:152: reg:linear is now deprecated in favor of reg:squarederror.\n",
      "[21:31:11] WARNING: src/objective/regression_obj.cu:152: reg:linear is now deprecated in favor of reg:squarederror.\n",
      "MAE for Top 5 Features:  -0.0205\n"
     ]
    }
   ],
   "source": [
    "XGB_BAModel = XGBRegressor(learning_rate=0.05, n_estimators=1000, max_depth=5, subsample=0.8, gamma=0)\n",
    "clf = XGB_BAModel.fit(X_top5, y)\n",
    "CV_score = cross_val_score(XGB_BAModel, X_top5, y, scoring='neg_mean_absolute_error')\n",
    "scr = round(np.mean(CV_score), 4)\n",
    "print(\"MAE for Top 5 Features: \", scr)"
   ]
  },
  {
   "cell_type": "markdown",
   "metadata": {},
   "source": [
    "# Step 2: Predicting Full Season Statistics"
   ]
  },
  {
   "cell_type": "markdown",
   "metadata": {},
   "source": [
    "To predict full season batting averages, the features used in the model must be projected for the entire season. I used the principle of regression to the mean and weighted averages to predict each player's final statistics.\n",
    "\n",
    "First, I found league average values for each statistic online:\n",
    "\n",
    "OBP - 0.320\n",
    "\n",
    "BABIP - 0.300\n",
    "\n",
    "K% - 0.200\n",
    "\n",
    "BB% - 0.080\n",
    "\n",
    "ISO - 0.140 \n",
    "\n",
    "I then created a variable constant called 'Mutiplier' for each player based on the number of plate appreances they had in March/April and an average number of plate appearances in a season. I estimated the number of plate appearances in a season to be 500. The Multiplier determined how much weight the March/April stats would have compared to league averages. \n",
    "\n",
    "This was important because a player with 100 plate appearances and good statistics is more likely to stay above average than a player with 10 plate appearances and good statistics. A higher Multiplier created this effect, regressing stats of those with high plate appearances less.\n",
    "\n",
    "For example, Elias Diaz only had 34 plate appearances while Manny Machado had 125. Siaz's multiplier was 0.068 while Machado's was 0.250. This causes Diaz's final stats to be 6.8% from his March/April and 93.2% from league averages. Machado's stats are 25% from from his March/April and 75% from league averages.\n",
    "\n",
    "Finally, I calculated a weighted average of the March/April stats and the league average using the variable Multiplier as the weighting constant."
   ]
  },
  {
   "cell_type": "code",
   "execution_count": 111,
   "metadata": {},
   "outputs": [],
   "source": [
    "df_regress = X_top5.copy()\n",
    "df_regress['MarApr_PA'] = df_data['MarApr_PA'].copy()\n",
    "# Calculated the multipler for each player\n",
    "df_regress['Multiplier'] = df_regress['MarApr_PA']/500\n",
    "# Calculated final stats for each player\n",
    "df_regress['OBP'] = df_regress['OBP']*df_regress['Multiplier'] + 0.320*(1-df_regress['Multiplier'])\n",
    "df_regress['BABIP'] = df_regress['BABIP']*df_regress['Multiplier'] + 0.300*(1-df_regress['Multiplier'])\n",
    "df_regress['K%'] = df_regress['K%']*df_regress['Multiplier'] + 0.200*(1-df_regress['Multiplier'])\n",
    "df_regress['BB%'] = df_regress['BB%']*df_regress['Multiplier'] + 0.080*(1-df_regress['Multiplier'])\n",
    "df_regress['ISO'] = df_regress['ISO']*df_regress['Multiplier'] + 0.140*(1-df_regress['Multiplier'])"
   ]
  },
  {
   "cell_type": "markdown",
   "metadata": {},
   "source": [
    "# Step 3: Making the Final Predicitions"
   ]
  },
  {
   "cell_type": "markdown",
   "metadata": {},
   "source": [
    "To make the full season batting average predictions, I pulled the features into a new dataframe and used the model."
   ]
  },
  {
   "cell_type": "code",
   "execution_count": 112,
   "metadata": {},
   "outputs": [],
   "source": [
    "# Copies features of interest from df_regressed\n",
    "X_regressed = df_regress[['OBP', 'BABIP', 'K%', 'BB%', 'ISO']]\n",
    "# Makes full season BA predictions\n",
    "Final_predictions = clf.predict(X_regressed)"
   ]
  },
  {
   "cell_type": "markdown",
   "metadata": {},
   "source": [
    "I was concerned about the regression techniques I used and how they would effect the stats for each player. To see how they affected the predictions I looked at the range of values predicted and a distribution plot of the predicitions. Ideally, the predicitions would have a normal distribution and a range similar to the 2017 range which was 0.203 to 0.342 (0.139 range)."
   ]
  },
  {
   "cell_type": "code",
   "execution_count": 113,
   "metadata": {},
   "outputs": [
    {
     "name": "stdout",
     "output_type": "stream",
     "text": [
      "Max predicted BA:  0.276\n",
      "Min predicted BA:  0.23\n"
     ]
    },
    {
     "data": {
      "image/png": "[encoded data removed]",
      "text/plain": [
       "<Figure size 432x288 with 1 Axes>"
      ]
     },
     "metadata": {
      "needs_background": "light"
     },
     "output_type": "display_data"
    }
   ],
   "source": [
    "# Print distribution plot of the predictions as well as max and min values. This was used to adjust the multiplier\n",
    "# mentioned above.\n",
    "sns.distplot(Final_predictions)\n",
    "max_BA = round(max(Final_predictions), 3)\n",
    "min_BA = round(min(Final_predictions), 3)\n",
    "print(\"Max predicted BA: \", max_BA)\n",
    "print(\"Min predicted BA: \", min_BA)"
   ]
  },
  {
   "cell_type": "markdown",
   "metadata": {},
   "source": [
    "The values were more heavily regressed to the mean than I had expected and the distribution was not normal. This told me I was undervaluing the March/April stats. To adjust the regression effects, I changed the expected plate appearances to 100 which produced a good normal distribution. Then I pushed the value up slowly until I started to lose that normal distribution. I wanted the value to be as high as possible since 100 plate appearancances weighs the March/April stats very heavily. I settled on a value of 180 which adjusted the range of predicitions to 0.182 to 0.321 (0.139 range) while keeping a normal distribution of predicitions.\n",
    "\n",
    "To compare to the original constant, Diaz's March/April stats went from having a weight of 6.8% to a weight of 18.8% and Machado's March/April weight increased from 25% to 69.4%."
   ]
  },
  {
   "cell_type": "code",
   "execution_count": 114,
   "metadata": {},
   "outputs": [],
   "source": [
    "df_regress = X_top5.copy()\n",
    "df_regress['MarApr_PA'] = df_data['MarApr_PA'].copy()\n",
    "df_regress['Multiplier'] = df_regress['MarApr_PA']/180 #Original value was 500\n",
    "df_regress['OBP'] = df_regress['OBP']*df_regress['Multiplier'] + 0.320*(1-df_regress['Multiplier'])\n",
    "df_regress['BABIP'] = df_regress['BABIP']*df_regress['Multiplier'] + 0.300*(1-df_regress['Multiplier'])\n",
    "df_regress['K%'] = df_regress['K%']*df_regress['Multiplier'] + 0.200*(1-df_regress['Multiplier'])\n",
    "df_regress['BB%'] = df_regress['BB%']*df_regress['Multiplier'] + 0.080*(1-df_regress['Multiplier'])\n",
    "df_regress['ISO'] = df_regress['ISO']*df_regress['Multiplier'] + 0.140*(1-df_regress['Multiplier'])"
   ]
  },
  {
   "cell_type": "markdown",
   "metadata": {},
   "source": [
    "Once the weighting constant was adjusted, I reran the model to get my final predicitions."
   ]
  },
  {
   "cell_type": "code",
   "execution_count": 115,
   "metadata": {},
   "outputs": [
    {
     "name": "stdout",
     "output_type": "stream",
     "text": [
      "Max predicted BA:  0.321\n",
      "Min predicted BA:  0.182\n"
     ]
    },
    {
     "data": {
      "image/png": "[encoded data removed]",
      "text/plain": [
       "<Figure size 432x288 with 1 Axes>"
      ]
     },
     "metadata": {
      "needs_background": "light"
     },
     "output_type": "display_data"
    }
   ],
   "source": [
    "# Copies features of interest from df_regressed\n",
    "X_regressed = df_regress[['OBP', 'BABIP', 'K%', 'BB%', 'ISO']]\n",
    "\n",
    "# Makes EoY BA predictions\n",
    "Final_predictions = clf.predict(X_regressed)\n",
    "\n",
    "# Print distribution plot of the predictions as well as max and min values. This was used to adjust the multiplier\n",
    "# mentioned above.\n",
    "sns.distplot(Final_predictions)\n",
    "max_BA = round(max(Final_predictions), 3)\n",
    "min_BA = round(min(Final_predictions), 3)\n",
    "print(\"Max predicted BA: \", max_BA)\n",
    "print(\"Min predicted BA: \", min_BA)"
   ]
  },
  {
   "cell_type": "markdown",
   "metadata": {},
   "source": [
    "# Results and Evaluating Model Performance"
   ]
  },
  {
   "cell_type": "markdown",
   "metadata": {},
   "source": [
    "The final step was to compare the predicitions to the actual full season batting averages. My primary evaluation was MAE which came out to 0.022.\n",
    "\n",
    "To help visualize my predicitions I plotted the predicted values vs the actual values."
   ]
  },
  {
   "cell_type": "code",
   "execution_count": 118,
   "metadata": {},
   "outputs": [
    {
     "name": "stdout",
     "output_type": "stream",
     "text": [
      "MAE for Full Season BA:  0.022\n"
     ]
    },
    {
     "data": {
      "image/png": "[encoded data removed]",
      "text/plain": [
       "<Figure size 432x288 with 1 Axes>"
      ]
     },
     "metadata": {
      "needs_background": "light"
     },
     "output_type": "display_data"
    }
   ],
   "source": [
    "# Evaluate the model using actual EoY averages provided\n",
    "score = round(mean_absolute_error(df_data['FullSeason_AVG'], Final_predictions), 3)\n",
    "print(\"MAE for Full Season BA: \", score)\n",
    "\n",
    "# Plots the predictions compared to the actual full season batting averages for visualization\n",
    "plt.figure(2)\n",
    "plt.plot(df_data['FullSeason_AVG'], Final_predictions, 'b.')\n",
    "plt.xlabel('Actual BA')\n",
    "plt.ylabel('Predicted BA')\n",
    "plt.axis([0.150, 0.375, 0.150, 0.375])\n",
    "plt.show()"
   ]
  },
  {
   "cell_type": "markdown",
   "metadata": {},
   "source": [
    "I also wanted to see if the model tended to overestimate or underestimate batting averages. The overestimate/underestimate ratio was 55%/45% indicating the model doesn't have any strong bias in one direction."
   ]
  },
  {
   "cell_type": "code",
   "execution_count": 117,
   "metadata": {},
   "outputs": [
    {
     "name": "stdout",
     "output_type": "stream",
     "text": [
      "171 batting averages were overestimated by the model ( 55.34 %)\n",
      "138 batting averages were underestimated by the model ( 44.66 %)\n"
     ]
    }
   ],
   "source": [
    "pred = Final_predictions\n",
    "actual = df_data.FullSeason_AVG.copy()\n",
    "diff = actual - pred\n",
    "\n",
    "overestimated = len([i for i in diff if i < 0])\n",
    "underestimated = len([i for i in diff if i > 0])\n",
    "ratio = round(overestimated/309*100, 2)\n",
    "print(overestimated, \"batting averages were overestimated by the model (\", ratio, \"%)\")\n",
    "print(underestimated, \"batting averages were underestimated by the model (\", 100-ratio, \"%)\")"
   ]
  },
  {
   "cell_type": "markdown",
   "metadata": {},
   "source": [
    "# Conclusions"
   ]
  },
  {
   "cell_type": "markdown",
   "metadata": {},
   "source": [
    "The performance of the model wasn't great. The difference of 22 batting average points can be significant over the course of a season. However, Sarah R. Bailey, Jason Loeppky, and Tim B. Swartz did a study comparing Statcast and PECOTA predictions for 2017 batting average that performed similarly. PECOTA's MAE was 0.0236 and Statcast's was 0.0209 (http://people.stat.sfu.ca/~tim/papers/sarah.pdf). Those values indicate this model is performing in the same range as other batting average predicition models.\n",
    "\n",
    "There are two things I would investigate to improve the model:\n",
    "\n",
    "1 - Use each player's historical averages for regression instead of league averages. This would work especially well with OBP, K%, BB%, and ISO because they have been shown to have a strong year-to-year correlation which means they stay consistent for each player and therefore we can expect each player to regress to their own averages with more confidence than the league average (https://www.beyondtheboxscore.com/2011/9/1/2393318/what-hitting-metrics-are-consistent-year-to-year). For a stat like BABIP, the year-to-year correlation is much lower, so a league average would be better. This more personalized model would likely give better results, especially for players who have stats significanly different than league averages.\n",
    "\n",
    "2 - Add additional stats and see if they became top featues and improve final predicitions. The previously mentioned paper by Sarah R. Bailey, Jason Loeppky, and Tim B. Swartz used a Statcast model that considered launch angle and exit velocity. These and other Statcast statistics would be highly insightful."
   ]
  },
  {
   "cell_type": "markdown",
   "metadata": {},
   "source": [
    "# Sources"
   ]
  },
  {
   "cell_type": "markdown",
   "metadata": {},
   "source": [
    "becominghuman.ai (https://becominghuman.ai/understand-regression-performance-metrics-bdb0e7fcc1b3) - using MAE for model performance evaluation\n",
    "\n",
    "Beyond the Boxscore (https://www.beyondtheboxscore.com/2011/9/1/2393318/what-hitting-metrics-are-consistent-year-to-year) - year-over-year correlation of hitting statistics\n",
    "\n",
    "Beyond the Boxscore (https://www.beyondtheboxscore.com/2017/12/26/16815098/babip-mlb-batting-average-on-balls-in-play-stats-statcast) - BABIP league average\n",
    "\n",
    "Fangraphs (https://library.fangraphs.com/offense/rate-stats/) - K% and BB% league averages\n",
    "\n",
    "Fangraphs (https://library.fangraphs.com/offense/iso/) - ISO league average\n",
    "\n",
    "Fangraphs (https://library.fangraphs.com/offense/obp/) - OBP league average\n",
    "\n",
    "Medium (https://medium.com/human-in-a-machine-world/mae-and-rmse-which-metric-is-better-e60ac3bde13d) - choosing MAE for model performance evaluation\n",
    "\n",
    "The Prediction of Batting Averages in Major League Baseball by Sarah R. Bailey, Jason Loeppky and Tim B. Swartz (http://people.stat.sfu.ca/~tim/papers/sarah.pdf) - using Statcast data to predict batting averages and a comparison for MAE performance\n",
    "\n",
    "pydata.org (https://seaborn.pydata.org/tutorial/distributions.html) - distribution plot code\n",
    "\n",
    "Towards Data Science (https://towardsdatascience.com/fine-tuning-xgboost-in-python-like-a-boss-b4543ed8b1e) - tuning a XGBoost model"
   ]
  }
 ],
 "metadata": {
  "kernelspec": {
   "display_name": "Python 3",
   "language": "python",
   "name": "python3"
  },
  "language_info": {
   "codemirror_mode": {
    "name": "ipython",
    "version": 3
   },
   "file_extension": ".py",
   "mimetype": "text/x-python",
   "name": "python",
   "nbconvert_exporter": "python",
   "pygments_lexer": "ipython3",
   "version": "3.7.4"
  }
 },
 "nbformat": 4,
 "nbformat_minor": 2
}
